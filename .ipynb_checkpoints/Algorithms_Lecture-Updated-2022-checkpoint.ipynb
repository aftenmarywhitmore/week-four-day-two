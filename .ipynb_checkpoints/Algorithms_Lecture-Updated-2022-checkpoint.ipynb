{
 "cells": [
  {
   "cell_type": "markdown",
   "metadata": {
    "id": "sIpVq3J4H951"
   },
   "source": [
    "# Classic Algorithms"
   ]
  },
  {
   "cell_type": "markdown",
   "metadata": {
    "id": "P-G6a_FCH96A"
   },
   "source": [
    "## Tasks Today:\n",
    " \n",
    "1) <b>In-Place Algorithms</b> <br>\n",
    " &nbsp;&nbsp;&nbsp;&nbsp; a) Syntax <br>\n",
    " &nbsp;&nbsp;&nbsp;&nbsp; a) Out of Place Algorithm <br>\n",
    " &nbsp;&nbsp;&nbsp;&nbsp; b) In-Class Exercise #1 <br>\n",
    "2) <b>Two Pointers</b> <br>\n",
    "3) <b>Sorting Algorithms</b> <br>\n",
    "4) <b>Merge Sort</b> <br>\n",
    " &nbsp;&nbsp;&nbsp;&nbsp; a) Video on Algorithms <br>\n",
    " &nbsp;&nbsp;&nbsp;&nbsp; b) How it Works <br>\n",
    "5) <b>Exercises</b> <br>\n",
    " &nbsp;&nbsp;&nbsp;&nbsp; a) Exercise #1 - Reverse a List in Place Using an In-Place Algorithm <br>\n",
    " &nbsp;&nbsp;&nbsp;&nbsp; b) Exercise #2 - Find Distinct Words <br>\n",
    " &nbsp;&nbsp;&nbsp;&nbsp; c) Exercise #3 - Write a program to implement a Linear Search Algorithm. <br>"
   ]
  },
  {
   "cell_type": "markdown",
   "metadata": {
    "id": "BRF-sZOoH96A"
   },
   "source": [
    "## In-Place Algorithms"
   ]
  },
  {
   "cell_type": "markdown",
   "metadata": {
    "id": "grYWHBGvH96A"
   },
   "source": [
    "#### Syntax"
   ]
  },
  {
   "cell_type": "code",
   "execution_count": null,
   "metadata": {
    "id": "vwCrPfjXH96B",
    "outputId": "eb64984b-2a88-4098-ce17-a50067c2335a"
   },
   "outputs": [],
   "source": [
    "# var[i],var[i + 1] = var[i + 1], var[i]\n",
    "# Sometimes known as a swap algorithm\n",
    "def swap(alist,x,y,z):\n",
    "    alist[x],alist[y],alist[z] = alist[z],alist[y],alist[x]\n",
    "    return alist\n",
    "\n",
    "#my_list = [20,4,10]\n",
    "my_list = [10, 20, 30]\n",
    "print(f\"Before swap: {my_list}\")\n",
    "\n",
    "#swap(my_list,0,1,2)\n",
    "swap(my_list,0,1,2)\n",
    "\n",
    "\n",
    "print(f\"AFTER swap: {my_list}\")    #10 20 30 --> 30 "
   ]
  },
  {
   "cell_type": "code",
   "execution_count": null,
   "metadata": {},
   "outputs": [],
   "source": [
    "# var[i],var[i + 1] = var[i + 1], var[i]\n",
    "# Sometimes known as a swap algorithm\n",
    "def swap(alist,x,y):\n",
    "    alist[x],alist[y] = alist[y],alist[x]\n",
    "    return alist\n",
    "\n",
    "my_list = [20,4]\n",
    "print(f\"Before swap: {my_list}\")\n",
    "\n",
    "# swap(my_list,0,1,2)\n",
    "swap(my_list,0,1)\n",
    "\n",
    "\n",
    "print(f\"AFTER swap: {my_list}\")"
   ]
  },
  {
   "cell_type": "markdown",
   "metadata": {
    "id": "uDiJ8Jc7H96C"
   },
   "source": [
    "#### Out of Place Algorithm"
   ]
  },
  {
   "cell_type": "code",
   "execution_count": null,
   "metadata": {
    "id": "s0_EE0T2H96C",
    "outputId": "1cf39d66-bfb6-4d51-a4e8-6bcefe14bbc8"
   },
   "outputs": [],
   "source": [
    "# not swapping, but rather reversing completely\n",
    "# BUT also copies to another place in memory\n",
    "my_list_copy = my_list[::-1]\n",
    "print(my_list_copy)\n",
    "\n",
    "array = ['a', 'b', 'c', 'd']\n",
    "new_array = ['a'] * len(array)\n",
    "\n",
    "print(\"Before\",array)\n",
    "\n",
    "length = len(array) - 1\n",
    "\n",
    "for i in range(length):\n",
    "    new_array[i] = array[length - i]\n",
    "    \n",
    "array = new_array\n",
    "print(\"After\",array)\n"
   ]
  },
  {
   "cell_type": "code",
   "execution_count": null,
   "metadata": {},
   "outputs": [],
   "source": [
    "\n",
    "my_list_copy = my_list[::-1]\n",
    "print(my_list_copy)\n",
    "\n",
    "array = ['a', 'b', 'c', 'd']\n",
    "new_array = ['a'] * len(array)\n",
    "\n",
    "print(\"Before\", array)\n",
    "print(len(array))\n",
    "length = len(array) - 1\n",
    "print(length,\"length\")\n",
    "\n",
    "for i in range(length):\n",
    "    print(i, \"i\")\n",
    "    print(new_array, \"pre change\")\n",
    "    print([length - i], \"value from array\")\n",
    "    new_array[i] = array[length - i]\n",
    "    print(new_array, \"post change\")\n",
    "    \n",
    "array = new_array\n",
    "\n",
    "print(\"After\", array)"
   ]
  },
  {
   "cell_type": "markdown",
   "metadata": {
    "id": "uPd_BXKzH96C"
   },
   "source": [
    "#### In-Class Exercise #1 <br>\n",
    "<p>Write a function that takes in four arguments (list, index1, index2, index3), and swaps those three positions in the list passed in.</p>"
   ]
  },
  {
   "cell_type": "code",
   "execution_count": null,
   "metadata": {
    "id": "w3tfbuyrH96C",
    "outputId": "7310d8a2-87cc-4c50-b2c5-6ca8ee31c3b0"
   },
   "outputs": [],
   "source": [
    "l_1 = [10, 4, 3, 8, 4, 2, 6]\n",
    "\n",
    "#def switch(lists,x,y,z):\n",
    "    #lists[x],lists[y],lists[z] = lists[z],lists[y],lists[x]\n",
    "    #return lists\n",
    "\n",
    "#solution 2\n",
    "def switch(lists,a,b,c,d,e,f,g):\n",
    "    lists[a],lists[b],lists[c], lists[d],lists[e],lists[f],lists[g] = lists[g],lists[f],lists[e],lists[d],lists[c],lists[b],lists[a]\n",
    "    return lists\n",
    "\n",
    "print(switch(l_1,0,1,2,3,4,5,6))"
   ]
  },
  {
   "cell_type": "markdown",
   "metadata": {
    "id": "Vrn5YtJVH96C"
   },
   "source": [
    "## Two Pointers"
   ]
  },
  {
   "cell_type": "markdown",
   "metadata": {
    "id": "CHgfUquqH96D"
   },
   "source": [
    "#### Syntax"
   ]
  },
  {
   "cell_type": "code",
   "execution_count": null,
   "metadata": {
    "id": "btexBiZ3H96D",
    "outputId": "08933f30-3b6f-4f71-e7a2-7a5780aeaa93"
   },
   "outputs": [],
   "source": [
    "#alist[left], alist[right] = alist[right],alist[left]\n",
    "#use two pointers to swap, can use a while loop in most cases\n",
    "#bring up python tutor\n",
    "def twoPointers(alist):\n",
    "    # Creating pointers for the list below:\n",
    "    left = 0\n",
    "    right = len(alist) - 1\n",
    "    while left <= right:\n",
    "        alist[left], alist[right] = alist[right],alist[left]\n",
    "        left += 1\n",
    "        right -= 1\n",
    "    return alist\n",
    "\n",
    "my_list2 = [1,2,3,12,9,8,4,11,22]\n",
    "twoPointers(my_list2)\n",
    "\n",
    "#COMEBACKTOTHISHOLYMESS"
   ]
  },
  {
   "cell_type": "markdown",
   "metadata": {
    "id": "Tm7PGt39H96D"
   },
   "source": [
    "#### Video of Algorithms <br>\n",
    "<p>Watch the video about algorithms.</p>\n",
    "\n",
    "https://www.youtube.com/watch?v=Q9HjeFD62Uk\n",
    "\n",
    "https://www.youtube.com/watch?v=kPRA0W1kECg\n",
    "\n",
    "https://www.youtube.com/watch?v=ZZuD6iUe3Pc"
   ]
  },
  {
   "cell_type": "markdown",
   "metadata": {
    "id": "rFMux2GqH96D"
   },
   "source": [
    "# Sorting Algorithms"
   ]
  },
  {
   "cell_type": "markdown",
   "metadata": {
    "id": "vorESRFnH96D"
   },
   "source": [
    "#### Bubble Sort\n",
    "\n",
    "Worst Case: O(n^2) Time - O(1) Space"
   ]
  },
  {
   "cell_type": "code",
   "execution_count": null,
   "metadata": {},
   "outputs": [],
   "source": [
    "#Time compelxity\n",
    "#How many actions have to happen per things taken as inputs\n",
    "#Bring up examples of built in functions and their time complexity"
   ]
  },
  {
   "cell_type": "code",
   "execution_count": null,
   "metadata": {
    "id": "rYA7S6WrH96D",
    "outputId": "28ddaff7-af9a-4616-9458-3550bdce0d76"
   },
   "outputs": [],
   "source": [
    "#Best Case: O(n) - Linear\n",
    "#Bubble sort visualizer\n",
    "def swap(i,j, array):\n",
    "    array[i],array[j] = array[j],array[i]\n",
    "    \n",
    "def bubbleSort(array):\n",
    "    isSorted = False # <-- This is a flag 🚩\n",
    "    while not isSorted:\n",
    "        isSorted = True\n",
    "        for num in range(len(array) - 1):\n",
    "            if array[num] > array[num + 1]:\n",
    "                swap(num, num + 1, array)\n",
    "                isSorted = False\n",
    "    return array\n",
    "bubbleSort([22,55,88,44,1,100,34,66])"
   ]
  },
  {
   "cell_type": "code",
   "execution_count": null,
   "metadata": {},
   "outputs": [],
   "source": [
    "#Best Case: O(n) - Linear\n",
    "#Bubble sort visualizer\n",
    "def swap(i,j, array):\n",
    "    array[i],array[j] = array[j],array[i]\n",
    "    \n",
    "def bubbleSort(array):\n",
    "    isSorted = False # <-- This is a flag 🚩\n",
    "    length = len(array)\n",
    "    while not isSorted:\n",
    "        isSorted = True\n",
    "        length-=1\n",
    "        for num in range(length):\n",
    "            if array[num] > array[num + 1]:\n",
    "                swap(num, num + 1, array)\n",
    "                isSorted = False\n",
    "    return array\n",
    "bubbleSort([22,55,88,44,1,100,34,66])"
   ]
  },
  {
   "cell_type": "markdown",
   "metadata": {
    "id": "hW2Mhuk7H96D"
   },
   "source": [
    "##### Insertion Sort\n",
    "\n",
    "Worst Case: O(n^2) time - O(1)space"
   ]
  },
  {
   "cell_type": "code",
   "execution_count": null,
   "metadata": {
    "id": "9cVE1bofH96E"
   },
   "outputs": [],
   "source": [
    "#Visualise insertion sort\n",
    "def swap(i,j,array):\n",
    "    array[i],array[j] = array[j],array[i]\n",
    "    \n",
    "def insertionSort(array):\n",
    "    for i in range(1,len(array)): #<-- consider 0 to be sorted\n",
    "        #basically checking that we dont go past the 0 index\n",
    "        j = i\n",
    "        while j > 0 and array[j] < array[j - 1]:\n",
    "            swap(j, j - 1, array)\n",
    "            j -= 1\n",
    "    return array\n",
    "\n",
    "insertionSort([22,55,88,44,1,100,34,66])\n",
    "\n",
    "#go back to video"
   ]
  },
  {
   "cell_type": "markdown",
   "metadata": {
    "id": "YWgzEOCjH96E"
   },
   "source": [
    "## Merge Sort"
   ]
  },
  {
   "cell_type": "markdown",
   "metadata": {
    "id": "jPzrMHHbH96E"
   },
   "source": [
    "#### How it Works"
   ]
  },
  {
   "cell_type": "code",
   "execution_count": null,
   "metadata": {
    "id": "FueGwC9mH96E",
    "outputId": "ea14c199-964c-4b63-92ba-c6f619969fb9"
   },
   "outputs": [],
   "source": [
    "# Step 1: Split everything into it's own group\n",
    "# Step 2: From left to right merge two groups together\n",
    "# Step 3: While merging, place each item in the correct position within the merged group\n",
    "# Step 4: Continue Steps 3-4 until one group is left\n",
    "\n",
    "from random import randint\n",
    "# used to generate a random list of 5 numbers from 0 to 20\n",
    "nums = [randint(0,20) for i in range(5)]\n",
    "\n",
    "# write merge sort below\n",
    "def mergeSort(alist):\n",
    "    print(\"Splitting...\", alist)\n",
    "    \n",
    "    # Step 1: Divide the array into equal parts (as much as possible)\n",
    "    if len(alist) > 1:\n",
    "        mid = len(alist) // 2\n",
    "        lefthalf = alist[:mid]\n",
    "        righthalf = alist[mid:]\n",
    "        \n",
    "        # recursively call mergeSort to perform splits if need\n",
    "        # Then merge once splits are done\n",
    "        mergeSort(lefthalf)\n",
    "        mergeSort(righthalf)\n",
    "        \n",
    "        # index pointers for our list\n",
    "        l = 0 # pointer for left half\n",
    "        r = 0 # pointer for right half\n",
    "        m = 0 # pointer for main array\n",
    "        \n",
    "        # Step 2: Compare the lefthalf and righthalf\n",
    "        while l < len(lefthalf) and r < len(righthalf):\n",
    "            if lefthalf[l] < righthalf[r]:\n",
    "                alist[m] = lefthalf[l]\n",
    "                l =+ 1\n",
    "            else:\n",
    "                alist[m] = righthalf[r]\n",
    "                r += 1\n",
    "            m = m + 1\n",
    "        # Step 3: While merging place items in correct position\n",
    "        while l < len(lefthalf):\n",
    "            alist[m] = lefthalf[l]\n",
    "            l += 1\n",
    "            m += 1\n",
    "        while r < len(righthalf):\n",
    "            alist[m] = righthalf[r]\n",
    "            r += 1\n",
    "            m += 1\n",
    "    print(\"Merging: \", alist)\n",
    "    return alist\n",
    "\n",
    "mergeSort(nums)"
   ]
  },
  {
   "cell_type": "markdown",
   "metadata": {
    "id": "UQ5UU14MH96E"
   },
   "source": [
    "# Binary Search\n",
    "\n",
    "The Binary Search algorithm works by finding the number in the middle of a given array and comparing it to the target. Given that the array is sorted\n",
    "\n",
    "* The worst case run time for this algorithm is `O(log(n))`"
   ]
  },
  {
   "cell_type": "code",
   "execution_count": 2,
   "metadata": {
    "id": "EgslH3Z3H96E",
    "outputId": "7b2beb79-426c-45f0-9c98-1ab6a1caa0cf"
   },
   "outputs": [
    {
     "data": {
      "text/plain": [
       "'The index is...1'"
      ]
     },
     "execution_count": 2,
     "metadata": {},
     "output_type": "execute_result"
    }
   ],
   "source": [
    "# Less == Left\n",
    "# Greater == Right\n",
    "# List of numbers MUST be sorted\n",
    "\n",
    "def binarySearchHelperFunction(array, target, left, right):\n",
    "    while left <= right:\n",
    "        middle = (left + right) // 2\n",
    "        potentialMatch = array[middle]\n",
    "        if target == potentialMatch:\n",
    "            return f\"The index is...{middle}\"\n",
    "        elif target < potentialMatch:\n",
    "            right = middle - 1\n",
    "        else:\n",
    "            left = middle + 1\n",
    "    return -1\n",
    "\n",
    "def binarySearch(array,target):\n",
    "    return binarySearchHelperFunction(array,target,0, len(array) - 1)\n",
    "\n",
    "binarySearch([22,44,55,66,88,100],44)"
   ]
  },
  {
   "cell_type": "markdown",
   "metadata": {
    "id": "4loSg5WqH96F"
   },
   "source": [
    "# Exercises"
   ]
  },
  {
   "cell_type": "markdown",
   "metadata": {
    "id": "iQ-ZcKB9H96F"
   },
   "source": [
    "### Exercise #1 <br>\n",
    "<p>Reverse the list below in-place using an in-place algorithm.<br>For extra credit: Reverse the strings at the same time.</p>"
   ]
  },
  {
   "cell_type": "code",
   "execution_count": null,
   "metadata": {
    "id": "Ic0w0wNCH96F"
   },
   "outputs": [],
   "source": [
    "words = ['this' , 'is', 'a', 'sentence', '.']\n",
    "\n",
    "def swap(alist,x,y,z,a,b):\n",
    "    alist[x],alist[y],alist[z],alist[a],alist[b] = alist[b],alist[a],alist[z],alist[y],alist[x]\n",
    "    return alist\n",
    "\n",
    "print(f\"Before swap: {words}\")\n",
    "\n",
    "swap(words,0,1,2,3,4)\n",
    "print(f\"After swap: {words}\")"
   ]
  },
  {
   "cell_type": "markdown",
   "metadata": {
    "id": "sBuPI5QmH96F"
   },
   "source": [
    "### Exercise #2 <br>\n",
    "<p>Create a function that counts how many distinct words are in the string below, then outputs a dictionary with the words as the key and the value as the amount of times that word appears in the string.<br>Should output:<br>{'a': 5,<br>\n",
    " 'abstract': 1,<br>\n",
    " 'an': 3,<br>\n",
    " 'array': 2, ... etc...</p>"
   ]
  },
  {
   "cell_type": "code",
   "execution_count": null,
   "metadata": {
    "id": "z2_yD8AjH96F"
   },
   "outputs": [],
   "source": [
    "a_text = 'In computing, a hash table hash map is a data structure which implements\\\n",
    "an associative array abstract data type, a structure that can map keys to values.\\\n",
    "A hash table uses a hash function to compute an index into an array of buckets or\\\n",
    "slots from which the desired value can be found'\n",
    "\n",
    "\n"
   ]
  },
  {
   "cell_type": "markdown",
   "metadata": {
    "id": "qBM1PW38H96F"
   },
   "source": [
    "## Exercise #3\n",
    "\n",
    "Write a program to implement a Linear Search Algorithm. Also in a comment, write the Time Complexity of the following algorithm.\n",
    "\n",
    "#### Hint: Linear Searching will require searching a list for a given number. "
   ]
  },
  {
   "cell_type": "code",
   "execution_count": 34,
   "metadata": {
    "id": "Sd-w0wCRH96F"
   },
   "outputs": [
    {
     "ename": "TypeError",
     "evalue": "binarySearchHelperFunction() missing 3 required positional arguments: 'target', 'left', and 'right'",
     "output_type": "error",
     "traceback": [
      "\u001b[0;31m---------------------------------------------------------------------------\u001b[0m",
      "\u001b[0;31mTypeError\u001b[0m                                 Traceback (most recent call last)",
      "Input \u001b[0;32mIn [34]\u001b[0m, in \u001b[0;36m<cell line: 28>\u001b[0;34m()\u001b[0m\n\u001b[1;32m     25\u001b[0m \u001b[38;5;28;01mdef\u001b[39;00m \u001b[38;5;21mbinarySearch\u001b[39m(array,target,left,right):\n\u001b[1;32m     26\u001b[0m     \u001b[38;5;28;01mreturn\u001b[39;00m binarySearchHelperFunction(array,target,\u001b[38;5;241m0\u001b[39m, \u001b[38;5;28mlen\u001b[39m(array) \u001b[38;5;241m-\u001b[39m \u001b[38;5;241m1\u001b[39m)\n\u001b[0;32m---> 28\u001b[0m \u001b[43mbinarySearchHelperFunction\u001b[49m\u001b[43m(\u001b[49m\u001b[43mbinarySearch\u001b[49m\u001b[43m)\u001b[49m\n",
      "\u001b[0;31mTypeError\u001b[0m: binarySearchHelperFunction() missing 3 required positional arguments: 'target', 'left', and 'right'"
     ]
    }
   ],
   "source": [
    "#nums_list = [10,23,45,70,11,15]\n",
    "#target = 70\n",
    "\n",
    "# If number is not present return -1\n",
    "\n",
    "\n",
    "# Less == Left\n",
    "# Greater == Right\n",
    "# List of numbers MUST be sorted\n",
    "\n",
    "\n",
    "def binarySearchHelperFunction(array, target, left, right):\n",
    "    binarySearch = ([10,11,15,23,45,70],70)\n",
    "    while left <= right:\n",
    "        middle = (left + right) // 2\n",
    "        potentialMatch = array[middle]\n",
    "        if target == potentialMatch:\n",
    "            return f\"The index is...{middle}\"\n",
    "        elif target < potentialMatch:\n",
    "            right = middle - 1\n",
    "        else:\n",
    "            left = middle + 1\n",
    "    return -1\n",
    "\n",
    "def binarySearch(array,target,left,right):\n",
    "    return binarySearchHelperFunction(array,target,0, len(array) - 1)\n",
    "\n",
    "binarySearchHelperFunction(binarySearch)"
   ]
  },
  {
   "cell_type": "code",
   "execution_count": null,
   "metadata": {},
   "outputs": [],
   "source": []
  },
  {
   "cell_type": "code",
   "execution_count": null,
   "metadata": {},
   "outputs": [],
   "source": []
  },
  {
   "cell_type": "code",
   "execution_count": null,
   "metadata": {},
   "outputs": [],
   "source": []
  }
 ],
 "metadata": {
  "colab": {
   "name": "Algorithms_Lecture-Updated-2021.ipynb",
   "provenance": []
  },
  "kernelspec": {
   "display_name": "Python 3 (ipykernel)",
   "language": "python",
   "name": "python3"
  },
  "language_info": {
   "codemirror_mode": {
    "name": "ipython",
    "version": 3
   },
   "file_extension": ".py",
   "mimetype": "text/x-python",
   "name": "python",
   "nbconvert_exporter": "python",
   "pygments_lexer": "ipython3",
   "version": "3.9.12"
  },
  "vscode": {
   "interpreter": {
    "hash": "aee8b7b246df8f9039afb4144a1f6fd8d2ca17a180786b69acc140d282b71a49"
   }
  }
 },
 "nbformat": 4,
 "nbformat_minor": 1
}
